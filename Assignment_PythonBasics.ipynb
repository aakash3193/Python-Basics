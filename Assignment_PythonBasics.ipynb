{
 "cells": [
  {
   "cell_type": "markdown",
   "id": "74f9ad64-aee7-45dc-a79d-9c1199280686",
   "metadata": {},
   "source": [
    "# Python Basics"
   ]
  },
  {
   "cell_type": "markdown",
   "id": "35bfdfda-74bb-48aa-b3a1-568f7b5beb82",
   "metadata": {},
   "source": [
    "1. What is Python, and why is it popular\n",
    "- Python is a high level programming language which is easy to learn and understand. It is used acroos data analytics, data science and Automation. It has vast set of libraries available that makes it very popular amongst techies."
   ]
  },
  {
   "cell_type": "markdown",
   "id": "df2fb7c9-0e28-44c2-bd0c-dce17abc46a3",
   "metadata": {},
   "source": [
    "2. What is an interpreter in Python\n",
    "- An interpreter is a program that directly executes Python code. It acts as a bridge between the high-level Python code written by a programmer and the low-level machine instructions that a computer can understand and execute. Error debugging easy with interpreter being there, it stops the progress as soon as it encounters error."
   ]
  },
  {
   "cell_type": "markdown",
   "id": "c1779bc4-0697-4ec7-980b-298745b741e7",
   "metadata": {},
   "source": [
    "3. What are pre-defined keywords in Python\n",
    " - Predefined keywords in Python are reserved words that possess specific, immutable meanings within the language's syntax. These keywords are fundamental to defining the structure and logic of Python programs and should not be used as identifiers (e.g., variable names, function names, or class names)."
   ]
  },
  {
   "cell_type": "markdown",
   "id": "891dd68a-774b-4a79-b31a-81e6e2d43ac3",
   "metadata": {},
   "source": [
    "4. Can keywords be used as variable names\n",
    "- No, keywords cannot be used as variable names in Python."
   ]
  },
  {
   "cell_type": "markdown",
   "id": "eb6f9dbf-bcc6-40dc-ae4a-b180167a9857",
   "metadata": {},
   "source": [
    "5. What is mutability in Python\n",
    " - Mutability refers to whether an object's state or value can be changed after it has been created."
   ]
  },
  {
   "cell_type": "markdown",
   "id": "45cb2439-8ae3-4cab-ac36-e93f38790209",
   "metadata": {},
   "source": [
    "6. Why are lists mutable, but tuples are immutable\n",
    " - Lists are designed to store a collection of items that may need to change during program execution. They are implemented as dynamic arrays in Python. This allows resizing and updating without creating a new object. Hence, once a list is created, you can change its elements (add, remove, or modify) and so they are mutable. Tuples are meant to represent fixed collections of items, like records or constants. Immutability makes them hashable (so they can be used as dictionary keys or set elements). This also ensures safety—tuples can be relied on not to change, which is useful in multi-threading and caching. Hence, once a tuple is created, you cannot change, add, or remove elements and so Tuples are immutable."
   ]
  },
  {
   "cell_type": "markdown",
   "id": "a046de8b-949f-40fd-8e5a-10a647cdbbb0",
   "metadata": {},
   "source": [
    "7. What is the difference between “==” and “is” operators in Python\n",
    " - == compares values and 'is' compares memory addresses (identity). Use == when you need to check if two objects have the same content or value. This is the more common scenario for general comparisons. Use is when you need to check if two variables are literally the same object in memory."
   ]
  },
  {
   "cell_type": "markdown",
   "id": "da513416-8ba4-449a-bf26-91e2fcb18fdb",
   "metadata": {},
   "source": [
    "8. What are logical operators in Python\n",
    " - Logical operators in Python are used to combine conditional statements and return either True or False. There are three logical operators in python. and, or & not. These operators are crucial for building complex conditional logic in Python, allowing programs to make decisions based on various combinations of conditions."
   ]
  },
  {
   "cell_type": "markdown",
   "id": "13d5ffc5-b641-4e21-a670-345d14cc7e64",
   "metadata": {},
   "source": [
    "9. What is type casting in Python\n",
    " - Typecasting in Python, also known as type conversion, is the process of converting a value or variable from one data type to another. This is often necessary when performing operations that require specific data types, or when you need to represent data in a different format."
   ]
  },
  {
   "cell_type": "markdown",
   "id": "74bd791c-6be4-4be1-ae8b-dab5f9887ea0",
   "metadata": {},
   "source": [
    "10. What is the difference between implicit and explicit type casting\n",
    "- Implicit type casting is done automatically by Python. Converts smaller/compatible data type into a larger one to avoid data loss. No data is lost, and programmer doesn’t need to do anything. Explicit type casting is done manually by the programmer using functions like int(), float(), str(), etc. "
   ]
  },
  {
   "cell_type": "markdown",
   "id": "c484bbc6-a4a5-495a-a756-3effc38d943b",
   "metadata": {},
   "source": [
    "11. What is the purpose of conditional statements in Python\n",
    "- Conditional statements in Python allow you to execute specific blocks of code based on whether a certain condition is true or false. They control the flow of your program's execution based on given inputs or conditions."
   ]
  },
  {
   "cell_type": "markdown",
   "id": "bf9be18f-a214-46bb-910a-76b36307550e",
   "metadata": {},
   "source": [
    "12. How does the elif statement work\n",
    "- The “elif” keyword in Python, stands for “else if”. It can be used in conditional statements to check for multiple conditions. For example, if the first condition is false, it moves on to the next “elif” statement to check if that condition is true."
   ]
  },
  {
   "cell_type": "markdown",
   "id": "78bf3e75-c6e2-4b31-82a6-b84e6b590b19",
   "metadata": {},
   "source": [
    "13. What is the difference between for and while loops\n",
    "- The main difference is that a for loop is used when the number of iterations is known beforehand, typically for iterating over a sequence like a list or a fixed range, while a while loop is used when the number of iterations is not predetermined and continues to execute as long as a given condition remains true."
   ]
  },
  {
   "cell_type": "markdown",
   "id": "ba021991-00aa-4cea-a22a-11fac79f6a7a",
   "metadata": {},
   "source": [
    "14. Describe a scenario where a while loop is more suitable than a for loop.\n",
    "- While loop wis used hen you don’t know in advance how many times the loop should run, and it depends on a condition being true/false. Example Scenario: ATM PIN Verification\n",
    "Suppose you are writing a program that keeps asking the user to enter their PIN until they get it right.\n",
    "Here, you don’t know how many attempts the user will need, so a while loop is more suitable."
   ]
  },
  {
   "cell_type": "markdown",
   "id": "df8ac507-6782-4b7f-abbd-eb890367da80",
   "metadata": {},
   "source": [
    "# Practical Questions"
   ]
  },
  {
   "cell_type": "markdown",
   "id": "70f2816a-0908-4854-80f6-f729fd563316",
   "metadata": {},
   "source": [
    "1. Write a Python program to print \"Hello, World!\""
   ]
  },
  {
   "cell_type": "code",
   "execution_count": 1,
   "id": "dbbc0f43-19c6-472b-9214-9f648f809202",
   "metadata": {},
   "outputs": [
    {
     "name": "stdout",
     "output_type": "stream",
     "text": [
      "Hello, World!\n"
     ]
    }
   ],
   "source": [
    "# Answer for question 1\n",
    "\n",
    "print(\"Hello, World!\")"
   ]
  },
  {
   "cell_type": "markdown",
   "id": "778f1efa-a281-4931-ab58-fce8a5fd3dff",
   "metadata": {},
   "source": [
    "2. Write a Python program that displays your name and age."
   ]
  },
  {
   "cell_type": "code",
   "execution_count": 2,
   "id": "36d00b41-77cf-4fe1-81c4-524f86cbf951",
   "metadata": {},
   "outputs": [
    {
     "name": "stdout",
     "output_type": "stream",
     "text": [
      "My name is  Aakash  and I am 32 years old\n"
     ]
    }
   ],
   "source": [
    "#Answer for question 2\n",
    "\n",
    "name = \"Aakash\"\n",
    "age = \"32\"\n",
    "print(\"My name is \",name,\" and I am\",age,\"years old\")"
   ]
  },
  {
   "cell_type": "markdown",
   "id": "3d6f2c4f-6408-4f3e-94b5-666699fa9600",
   "metadata": {},
   "source": [
    "3. Write code to print all the pre-defined keywords in Python using the keyword library"
   ]
  },
  {
   "cell_type": "code",
   "execution_count": 3,
   "id": "af56e2af-983f-4a69-9eb0-6f01dbd30ad1",
   "metadata": {},
   "outputs": [
    {
     "name": "stdout",
     "output_type": "stream",
     "text": [
      "['False', 'None', 'True', 'and', 'as', 'assert', 'async', 'await', 'break', 'class', 'continue', 'def', 'del', 'elif', 'else', 'except', 'finally', 'for', 'from', 'global', 'if', 'import', 'in', 'is', 'lambda', 'nonlocal', 'not', 'or', 'pass', 'raise', 'return', 'try', 'while', 'with', 'yield']\n"
     ]
    }
   ],
   "source": [
    "#Answer for question 3\n",
    "\n",
    "import keyword\n",
    "print(keyword.kwlist)"
   ]
  },
  {
   "cell_type": "markdown",
   "id": "50a9dc97-e7b6-4491-ac7b-7c0fb0130383",
   "metadata": {},
   "source": [
    "4. Write a program that checks if a given word is a Python keyword"
   ]
  },
  {
   "cell_type": "code",
   "execution_count": 15,
   "id": "6321c0e2-6394-49d4-8393-a43c15d6fa01",
   "metadata": {},
   "outputs": [
    {
     "name": "stdin",
     "output_type": "stream",
     "text": [
      "Enter any word: and\n"
     ]
    },
    {
     "name": "stdout",
     "output_type": "stream",
     "text": [
      "and  is a keyword.\n"
     ]
    }
   ],
   "source": [
    "import keyword\n",
    "list = keyword.kwlist\n",
    "word = input(\"Enter any word:\")\n",
    "if word in list:\n",
    "    print(word, \" is a keyword.\")\n",
    "else:\n",
    "    print(\"You entered \", word)"
   ]
  },
  {
   "cell_type": "markdown",
   "id": "4e8047ea-009b-4006-9ff5-6ba2aadec3f1",
   "metadata": {},
   "source": [
    "5. Create a list and tuple in Python, and demonstrate how attempting to change an element works differently for each"
   ]
  },
  {
   "cell_type": "code",
   "execution_count": 23,
   "id": "9f1f8a0e-477c-404a-87b3-681d63f7072b",
   "metadata": {},
   "outputs": [
    {
     "data": {
      "text/plain": [
       "[1, 3, 4, 5, 6, 7, 8]"
      ]
     },
     "execution_count": 23,
     "metadata": {},
     "output_type": "execute_result"
    }
   ],
   "source": [
    "#Answer for question 5\n",
    "\n",
    "list = [2,3,4,5,6,7,8]\n",
    "list[0]=1\n",
    "list # Hence lists are mutable, if you change the value of index 1, from 2 to 10 then then it changes."
   ]
  },
  {
   "cell_type": "code",
   "execution_count": 25,
   "id": "1632d53a-b1b0-4442-ae0d-21b6cc9c4497",
   "metadata": {},
   "outputs": [
    {
     "ename": "TypeError",
     "evalue": "'tuple' object does not support item assignment",
     "output_type": "error",
     "traceback": [
      "\u001b[31m---------------------------------------------------------------------------\u001b[39m",
      "\u001b[31mTypeError\u001b[39m                                 Traceback (most recent call last)",
      "\u001b[36mCell\u001b[39m\u001b[36m \u001b[39m\u001b[32mIn[25]\u001b[39m\u001b[32m, line 5\u001b[39m\n\u001b[32m      3\u001b[39m tup = (\u001b[32m4\u001b[39m,\u001b[32m5\u001b[39m,\u001b[32m6\u001b[39m,\u001b[32m7\u001b[39m,\u001b[32m9\u001b[39m)\n\u001b[32m      4\u001b[39m tup[\u001b[32m0\u001b[39m]\n\u001b[32m----> \u001b[39m\u001b[32m5\u001b[39m \u001b[43mtup\u001b[49m\u001b[43m[\u001b[49m\u001b[32;43m0\u001b[39;49m\u001b[43m]\u001b[49m = \u001b[32m10\u001b[39m \u001b[38;5;66;03m# This will give an error, meaning if you ttry to assign another value at index 0 for this tuple, it will throw an error because you can not change the value of tuple in python\u001b[39;00m\n",
      "\u001b[31mTypeError\u001b[39m: 'tuple' object does not support item assignment"
     ]
    }
   ],
   "source": [
    "#Answer for question 5\n",
    "\n",
    "tup = (4,5,6,7,9)\n",
    "tup[0]\n",
    "tup[0] = 10 # This will give an error, meaning if you ttry to assign another value at index 0 for this tuple, it will throw an error because you can not change the value of tuple in python"
   ]
  },
  {
   "cell_type": "markdown",
   "id": "a4b467f7-7780-4fed-bb1c-c1bdd69307ef",
   "metadata": {},
   "source": [
    "6. Write a function to demonstrate the behavior of mutable and immutable arguments."
   ]
  },
  {
   "cell_type": "code",
   "execution_count": 27,
   "id": "3432234a-cda7-4b77-ae87-9dc1fe63638d",
   "metadata": {},
   "outputs": [
    {
     "name": "stdout",
     "output_type": "stream",
     "text": [
      "x after function: 10\n",
      "y after function: [1, 2, 3, 4, 5]\n"
     ]
    }
   ],
   "source": [
    "#Answer for question 6\n",
    "\n",
    "def demo(a,b):\n",
    "    a = a + 5\n",
    "    b.append(5)\n",
    "\n",
    "x = 10\n",
    "y = [1,2,3,4]\n",
    "\n",
    "demo(x,y)\n",
    "print(\"x after function:\", x) #immutable - because it stays the same after calling the function [int]\n",
    "print(\"y after function:\", y) #mutable - because it changes after calling the function [list]"
   ]
  },
  {
   "cell_type": "markdown",
   "id": "9aa6a32d-7cc1-4ee6-84d6-f674e8a2bb11",
   "metadata": {},
   "source": [
    "7. Write a program that performs basic arithmetic operations on two user-input numbers."
   ]
  },
  {
   "cell_type": "code",
   "execution_count": 29,
   "id": "7c7de386-534b-4aa5-895b-c94fe4957d9c",
   "metadata": {},
   "outputs": [
    {
     "name": "stdin",
     "output_type": "stream",
     "text": [
      "Enter number a: 10\n",
      "Enter number b: 5\n"
     ]
    },
    {
     "name": "stdout",
     "output_type": "stream",
     "text": [
      "Addition is: 15.0\n",
      "Subtraction is: 5.0\n",
      "Multiplication is: 50.0\n",
      "Division is: 2.0\n",
      "Floor division is: 2.0\n",
      "Modulus  is: 0.0\n",
      "Power is: 100000.0\n"
     ]
    }
   ],
   "source": [
    "#Answer for question 7\n",
    "\n",
    "x = float(input(\"Enter number a:\"))\n",
    "y = float(input(\"Enter number b:\"))\n",
    "\n",
    "# + operator \n",
    "print(\"Addition is:\",x + y)\n",
    "\n",
    "# - operator \n",
    "print(\"Subtraction is:\",x - y)\n",
    "\n",
    "# * operator \n",
    "print(\"Multiplication is:\",x * y)\n",
    "\n",
    "# / operator \n",
    "print(\"Division is:\",x / y)\n",
    "\n",
    "# // operator \n",
    "print(\"Floor division is:\",x // y)\n",
    "\n",
    "# % operator \n",
    "print(\"Modulus  is:\",x % y)\n",
    "\n",
    "# ** operator \n",
    "print(\"Power is:\",x ** y)"
   ]
  },
  {
   "cell_type": "markdown",
   "id": "8d84d832-602a-40d4-96c0-3ff85bf910dd",
   "metadata": {},
   "source": [
    "8. Write a program to demonstrate the use of logical operators."
   ]
  },
  {
   "cell_type": "code",
   "execution_count": 32,
   "id": "4f7c6a37-a659-4ae6-be93-32014f21e8e5",
   "metadata": {},
   "outputs": [
    {
     "name": "stdout",
     "output_type": "stream",
     "text": [
      "x and y both are greater than 0?: True\n",
      "Are any one of x or y less than 11?:  False\n",
      "Is x not greater than y?: True\n"
     ]
    }
   ],
   "source": [
    "#Answer for question 8\n",
    "\n",
    "x = 13\n",
    "y = 25\n",
    "\n",
    "print(\"x and y both are greater than 0?:\", x>0 and y>0)\n",
    "print(\"Are any one of x or y less than 11?: \", x<11 or y<11)\n",
    "print(\"Is x not greater than y?:\", not(x>y))"
   ]
  },
  {
   "cell_type": "markdown",
   "id": "ff9b89c2-4813-483a-bb06-8e3db2704363",
   "metadata": {},
   "source": [
    "9. Write a Python program to convert user input from string to integer, float, and boolean types."
   ]
  },
  {
   "cell_type": "code",
   "execution_count": 35,
   "id": "6e737f99-ec65-4a9e-bf4f-82cc637660a7",
   "metadata": {},
   "outputs": [
    {
     "name": "stdin",
     "output_type": "stream",
     "text": [
      "Enter any numbers:  15\n"
     ]
    },
    {
     "name": "stdout",
     "output_type": "stream",
     "text": [
      "boolean value is: True\n",
      "Integer value is: 15\n",
      "float value is: 15.0\n"
     ]
    }
   ],
   "source": [
    "#Answer for question 9\n",
    "\n",
    "a = input(\"Enter any numbers: \")\n",
    "\n",
    "#Convert to boolean\n",
    "print(\"boolean value is:\", bool(a)) \n",
    "\n",
    "#Convert to integer\n",
    "print(\"Integer value is:\",int(a)) #will throw and error if char is entered in a\n",
    "\n",
    "#Convert to float\n",
    "print(\"float value is:\", float(a)) #will throw and error if char is entered in a"
   ]
  },
  {
   "cell_type": "markdown",
   "id": "9cc32cdb-f1e8-498d-b11a-4c6ad321d6a2",
   "metadata": {},
   "source": [
    "10. Write code to demonstrate type casting with list elements."
   ]
  },
  {
   "cell_type": "code",
   "execution_count": 37,
   "id": "2f3b3cb7-b5a3-44d6-b8e0-c65a26f57b9f",
   "metadata": {},
   "outputs": [
    {
     "name": "stdout",
     "output_type": "stream",
     "text": [
      "Integer list: [5, 10, 15, 20, 25]\n",
      "Float list: [5.0, 10.0, 15.0, 20.0, 25.0]\n",
      "Boolean list: [True, True, True, True, True]\n"
     ]
    }
   ],
   "source": [
    "#Answer for question 10\n",
    "\n",
    "list = [\"5\", \"10\", \"15\", \"20\", \"25\"]\n",
    "\n",
    "int_list = [int(x) for x in list]\n",
    "print(\"Integer list:\",int_list)\n",
    "\n",
    "float_list = [float(x) for x in list]\n",
    "print(\"Float list:\",float_list)\n",
    "\n",
    "boolean_list = [bool(x) for x in list]\n",
    "print(\"Boolean list:\",boolean_list)"
   ]
  },
  {
   "cell_type": "markdown",
   "id": "16ff9b19-1755-4c33-93d0-256f238110b4",
   "metadata": {},
   "source": [
    "11. Write a program that checks if a number is positive, negative, or zero."
   ]
  },
  {
   "cell_type": "code",
   "execution_count": 38,
   "id": "601dff50-2876-4d5b-833e-9df2f312e3b6",
   "metadata": {},
   "outputs": [
    {
     "name": "stdin",
     "output_type": "stream",
     "text": [
      "Enter any number:  -5\n"
     ]
    },
    {
     "name": "stdout",
     "output_type": "stream",
     "text": [
      "Entered number is negative\n"
     ]
    }
   ],
   "source": [
    "#Answer for question 11\n",
    "\n",
    "a = int(input(\"Enter any number: \")) #Will trhow an error if char is entered\n",
    "\n",
    "if a > 0:\n",
    "    print(\"Entered number is positive\")\n",
    "elif a < 0:\n",
    "    print(\"Entered number is negative\")\n",
    "else:\n",
    "    print(\"Entered number is 0\")"
   ]
  },
  {
   "cell_type": "markdown",
   "id": "81462374-07a1-4388-a94c-d13e4a62f741",
   "metadata": {},
   "source": [
    "12.Write a for loop to print numbers from 1 to 10."
   ]
  },
  {
   "cell_type": "code",
   "execution_count": 40,
   "id": "28eedc35-9f09-4167-941b-b911023268a6",
   "metadata": {},
   "outputs": [
    {
     "name": "stdout",
     "output_type": "stream",
     "text": [
      "1\n",
      "2\n",
      "3\n",
      "4\n",
      "5\n"
     ]
    }
   ],
   "source": [
    "#Answer for question 12\n",
    "\n",
    "for i in range(1, 6):\n",
    "    print(i)"
   ]
  },
  {
   "cell_type": "markdown",
   "id": "b3efd699-2fff-4857-bd8c-0a37d653acbd",
   "metadata": {},
   "source": [
    "13. Write a Python program to find the sum of all even numbers between 1 and 50."
   ]
  },
  {
   "cell_type": "code",
   "execution_count": 42,
   "id": "d0a85974-4a38-406f-a090-6bce05bf7844",
   "metadata": {},
   "outputs": [
    {
     "name": "stdout",
     "output_type": "stream",
     "text": [
      "The sum of all even numbers between 1 and 50 is: 100\n"
     ]
    }
   ],
   "source": [
    "#Answer for question 13\n",
    "\n",
    "for i in range(1, 51):\n",
    "    if i % 2 == 0:\n",
    "        i += i\n",
    "print(\"The sum of all even numbers between 1 and 50 is:\",i)"
   ]
  },
  {
   "cell_type": "markdown",
   "id": "1be5fca0-f04a-45ac-a6b8-2d9c6c665c7b",
   "metadata": {},
   "source": [
    "14.Write a program to reverse a string using a while loop."
   ]
  },
  {
   "cell_type": "code",
   "execution_count": 47,
   "id": "806aa3cc-f905-445a-9c7d-40bf201e7453",
   "metadata": {},
   "outputs": [
    {
     "name": "stdin",
     "output_type": "stream",
     "text": [
      "Enter any string: aakash\n"
     ]
    },
    {
     "name": "stdout",
     "output_type": "stream",
     "text": [
      "Reversed text is: hsakaa\n"
     ]
    }
   ],
   "source": [
    "#Answer for question 14\n",
    "\n",
    "s = input(\"Enter any string:\")\n",
    "r = \"\"\n",
    "i = len(s)-1\n",
    "\n",
    "while i>=0:\n",
    "    r += s[i]\n",
    "    i -= 1\n",
    "\n",
    "print(\"Reversed text is:\",r)\n",
    "    "
   ]
  },
  {
   "cell_type": "markdown",
   "id": "c3b9f086-25a5-4f15-94fc-01dc7203d4b8",
   "metadata": {},
   "source": [
    "15 Write a Python program to calculate the factorial of a number provided by the user using a while loop."
   ]
  },
  {
   "cell_type": "code",
   "execution_count": 48,
   "id": "1e497dc2-91d7-47c4-9bf3-8c9ab268cd33",
   "metadata": {},
   "outputs": [
    {
     "name": "stdin",
     "output_type": "stream",
     "text": [
      "Enter any number: 2\n"
     ]
    },
    {
     "name": "stdout",
     "output_type": "stream",
     "text": [
      "Factorial of 2 is:  2\n"
     ]
    }
   ],
   "source": [
    "#Answer for question 15\n",
    "\n",
    "n = int(input(\"Enter any number:\")) #Will throuw an error if char is entered\n",
    "fact = 1\n",
    "i = 1\n",
    "\n",
    "while i <= n:\n",
    "    fact *= i\n",
    "    i += 1\n",
    "\n",
    "print(\"Factorial of\", n, \"is: \", fact)"
   ]
  },
  {
   "cell_type": "code",
   "execution_count": null,
   "id": "c76ca785-6254-48ba-a693-8a06116f29b4",
   "metadata": {},
   "outputs": [],
   "source": []
  }
 ],
 "metadata": {
  "kernelspec": {
   "display_name": "Python 3 (ipykernel)",
   "language": "python",
   "name": "python3"
  },
  "language_info": {
   "codemirror_mode": {
    "name": "ipython",
    "version": 3
   },
   "file_extension": ".py",
   "mimetype": "text/x-python",
   "name": "python",
   "nbconvert_exporter": "python",
   "pygments_lexer": "ipython3",
   "version": "3.13.2"
  }
 },
 "nbformat": 4,
 "nbformat_minor": 5
}
